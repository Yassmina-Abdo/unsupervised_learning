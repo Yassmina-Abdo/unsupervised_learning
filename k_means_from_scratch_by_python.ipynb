{
  "nbformat": 4,
  "nbformat_minor": 0,
  "metadata": {
    "colab": {
      "name": "K-means_from_scratch_by_python.ipynb",
      "provenance": [],
      "authorship_tag": "ABX9TyM62INa4rSWWAy+NTt1eUU9",
      "include_colab_link": true
    },
    "kernelspec": {
      "name": "python3",
      "display_name": "Python 3"
    },
    "language_info": {
      "name": "python"
    },
    "accelerator": "GPU"
  },
  "cells": [
    {
      "cell_type": "markdown",
      "metadata": {
        "id": "view-in-github",
        "colab_type": "text"
      },
      "source": [
        "<a href=\"https://colab.research.google.com/github/Yassmina-Abdo/unsupervised_learning/blob/main/k_means_from_scratch_by_python.ipynb\" target=\"_parent\"><img src=\"https://colab.research.google.com/assets/colab-badge.svg\" alt=\"Open In Colab\"/></a>"
      ]
    },
    {
      "cell_type": "markdown",
      "source": [
        "#Imports"
      ],
      "metadata": {
        "id": "SZG1CNrjzxfE"
      }
    },
    {
      "cell_type": "code",
      "execution_count": null,
      "metadata": {
        "id": "mxo1V8NJSsId"
      },
      "outputs": [],
      "source": [
        "from sklearn.datasets import load_iris\n",
        "import matplotlib.pyplot as plt\n",
        "import pandas as pd\n",
        "import numpy as np\n",
        "import seaborn as sns"
      ]
    },
    {
      "cell_type": "markdown",
      "source": [
        "#Load Dataset"
      ],
      "metadata": {
        "id": "JnG1BDD7z4bL"
      }
    },
    {
      "cell_type": "code",
      "source": [
        "data = load_iris()\n",
        "df = pd.DataFrame(data.data, columns=data.feature_names)\n",
        "df.head()"
      ],
      "metadata": {
        "colab": {
          "base_uri": "https://localhost:8080/",
          "height": 206
        },
        "id": "xbj4JAbNzrpO",
        "outputId": "6598b1eb-6353-476a-d287-ae986ddd2ada"
      },
      "execution_count": null,
      "outputs": [
        {
          "output_type": "execute_result",
          "data": {
            "text/plain": [
              "   sepal length (cm)  sepal width (cm)  petal length (cm)  petal width (cm)\n",
              "0                5.1               3.5                1.4               0.2\n",
              "1                4.9               3.0                1.4               0.2\n",
              "2                4.7               3.2                1.3               0.2\n",
              "3                4.6               3.1                1.5               0.2\n",
              "4                5.0               3.6                1.4               0.2"
            ],
            "text/html": [
              "\n",
              "  <div id=\"df-d463adf2-15ac-49d2-8808-3fb6bc9c0fc0\">\n",
              "    <div class=\"colab-df-container\">\n",
              "      <div>\n",
              "<style scoped>\n",
              "    .dataframe tbody tr th:only-of-type {\n",
              "        vertical-align: middle;\n",
              "    }\n",
              "\n",
              "    .dataframe tbody tr th {\n",
              "        vertical-align: top;\n",
              "    }\n",
              "\n",
              "    .dataframe thead th {\n",
              "        text-align: right;\n",
              "    }\n",
              "</style>\n",
              "<table border=\"1\" class=\"dataframe\">\n",
              "  <thead>\n",
              "    <tr style=\"text-align: right;\">\n",
              "      <th></th>\n",
              "      <th>sepal length (cm)</th>\n",
              "      <th>sepal width (cm)</th>\n",
              "      <th>petal length (cm)</th>\n",
              "      <th>petal width (cm)</th>\n",
              "    </tr>\n",
              "  </thead>\n",
              "  <tbody>\n",
              "    <tr>\n",
              "      <th>0</th>\n",
              "      <td>5.1</td>\n",
              "      <td>3.5</td>\n",
              "      <td>1.4</td>\n",
              "      <td>0.2</td>\n",
              "    </tr>\n",
              "    <tr>\n",
              "      <th>1</th>\n",
              "      <td>4.9</td>\n",
              "      <td>3.0</td>\n",
              "      <td>1.4</td>\n",
              "      <td>0.2</td>\n",
              "    </tr>\n",
              "    <tr>\n",
              "      <th>2</th>\n",
              "      <td>4.7</td>\n",
              "      <td>3.2</td>\n",
              "      <td>1.3</td>\n",
              "      <td>0.2</td>\n",
              "    </tr>\n",
              "    <tr>\n",
              "      <th>3</th>\n",
              "      <td>4.6</td>\n",
              "      <td>3.1</td>\n",
              "      <td>1.5</td>\n",
              "      <td>0.2</td>\n",
              "    </tr>\n",
              "    <tr>\n",
              "      <th>4</th>\n",
              "      <td>5.0</td>\n",
              "      <td>3.6</td>\n",
              "      <td>1.4</td>\n",
              "      <td>0.2</td>\n",
              "    </tr>\n",
              "  </tbody>\n",
              "</table>\n",
              "</div>\n",
              "      <button class=\"colab-df-convert\" onclick=\"convertToInteractive('df-d463adf2-15ac-49d2-8808-3fb6bc9c0fc0')\"\n",
              "              title=\"Convert this dataframe to an interactive table.\"\n",
              "              style=\"display:none;\">\n",
              "        \n",
              "  <svg xmlns=\"http://www.w3.org/2000/svg\" height=\"24px\"viewBox=\"0 0 24 24\"\n",
              "       width=\"24px\">\n",
              "    <path d=\"M0 0h24v24H0V0z\" fill=\"none\"/>\n",
              "    <path d=\"M18.56 5.44l.94 2.06.94-2.06 2.06-.94-2.06-.94-.94-2.06-.94 2.06-2.06.94zm-11 1L8.5 8.5l.94-2.06 2.06-.94-2.06-.94L8.5 2.5l-.94 2.06-2.06.94zm10 10l.94 2.06.94-2.06 2.06-.94-2.06-.94-.94-2.06-.94 2.06-2.06.94z\"/><path d=\"M17.41 7.96l-1.37-1.37c-.4-.4-.92-.59-1.43-.59-.52 0-1.04.2-1.43.59L10.3 9.45l-7.72 7.72c-.78.78-.78 2.05 0 2.83L4 21.41c.39.39.9.59 1.41.59.51 0 1.02-.2 1.41-.59l7.78-7.78 2.81-2.81c.8-.78.8-2.07 0-2.86zM5.41 20L4 18.59l7.72-7.72 1.47 1.35L5.41 20z\"/>\n",
              "  </svg>\n",
              "      </button>\n",
              "      \n",
              "  <style>\n",
              "    .colab-df-container {\n",
              "      display:flex;\n",
              "      flex-wrap:wrap;\n",
              "      gap: 12px;\n",
              "    }\n",
              "\n",
              "    .colab-df-convert {\n",
              "      background-color: #E8F0FE;\n",
              "      border: none;\n",
              "      border-radius: 50%;\n",
              "      cursor: pointer;\n",
              "      display: none;\n",
              "      fill: #1967D2;\n",
              "      height: 32px;\n",
              "      padding: 0 0 0 0;\n",
              "      width: 32px;\n",
              "    }\n",
              "\n",
              "    .colab-df-convert:hover {\n",
              "      background-color: #E2EBFA;\n",
              "      box-shadow: 0px 1px 2px rgba(60, 64, 67, 0.3), 0px 1px 3px 1px rgba(60, 64, 67, 0.15);\n",
              "      fill: #174EA6;\n",
              "    }\n",
              "\n",
              "    [theme=dark] .colab-df-convert {\n",
              "      background-color: #3B4455;\n",
              "      fill: #D2E3FC;\n",
              "    }\n",
              "\n",
              "    [theme=dark] .colab-df-convert:hover {\n",
              "      background-color: #434B5C;\n",
              "      box-shadow: 0px 1px 3px 1px rgba(0, 0, 0, 0.15);\n",
              "      filter: drop-shadow(0px 1px 2px rgba(0, 0, 0, 0.3));\n",
              "      fill: #FFFFFF;\n",
              "    }\n",
              "  </style>\n",
              "\n",
              "      <script>\n",
              "        const buttonEl =\n",
              "          document.querySelector('#df-d463adf2-15ac-49d2-8808-3fb6bc9c0fc0 button.colab-df-convert');\n",
              "        buttonEl.style.display =\n",
              "          google.colab.kernel.accessAllowed ? 'block' : 'none';\n",
              "\n",
              "        async function convertToInteractive(key) {\n",
              "          const element = document.querySelector('#df-d463adf2-15ac-49d2-8808-3fb6bc9c0fc0');\n",
              "          const dataTable =\n",
              "            await google.colab.kernel.invokeFunction('convertToInteractive',\n",
              "                                                     [key], {});\n",
              "          if (!dataTable) return;\n",
              "\n",
              "          const docLinkHtml = 'Like what you see? Visit the ' +\n",
              "            '<a target=\"_blank\" href=https://colab.research.google.com/notebooks/data_table.ipynb>data table notebook</a>'\n",
              "            + ' to learn more about interactive tables.';\n",
              "          element.innerHTML = '';\n",
              "          dataTable['output_type'] = 'display_data';\n",
              "          await google.colab.output.renderOutput(dataTable, element);\n",
              "          const docLink = document.createElement('div');\n",
              "          docLink.innerHTML = docLinkHtml;\n",
              "          element.appendChild(docLink);\n",
              "        }\n",
              "      </script>\n",
              "    </div>\n",
              "  </div>\n",
              "  "
            ]
          },
          "metadata": {},
          "execution_count": 2
        }
      ]
    },
    {
      "cell_type": "markdown",
      "source": [
        "#Intialization Centers"
      ],
      "metadata": {
        "id": "gRnUloo2CvrI"
      }
    },
    {
      "cell_type": "code",
      "source": [
        "def init_centroids(df,k):\n",
        "  # Choose Point From Data by Random to be Centroid-- we have in iris data 4 features with 4 Dim with k clusters \n",
        "  # A one point or centroid is about (-,-,-,-)\n",
        "  centroids_df = df.sample(n= k)\n",
        "  # Centroids data frame is a 3x4 Dims\n",
        "  print(centroids_df.shape)\n",
        "  return centroids_df "
      ],
      "metadata": {
        "id": "f42DSIrZ8nR2"
      },
      "execution_count": null,
      "outputs": []
    },
    {
      "cell_type": "markdown",
      "source": [
        "#Draw 2 Features With Centroids"
      ],
      "metadata": {
        "id": "sSaQe5SHLBfr"
      }
    },
    {
      "cell_type": "code",
      "source": [
        "def draw_points_centroids(df,x=df.columns[0],y=df.columns[1],centroids_df=None):\n",
        "\n",
        "  plt.scatter(df[x],df[y],c='blue')\n",
        "  plt.scatter(centroids_df[x],centroids_df[y],c='red',label='centroid')\n",
        "  plt.legend()\n",
        "  plt.xlabel(x)\n",
        "  plt.ylabel(y)\n",
        "\n",
        "centroids_df = init_centroids(df,3)\n",
        "draw_points_centroids(df,df.columns[0], df.columns[1],centroids_df)"
      ],
      "metadata": {
        "colab": {
          "base_uri": "https://localhost:8080/",
          "height": 299
        },
        "id": "Q0QRfHTkHTjX",
        "outputId": "9194c082-09b8-4263-c69d-172368c694b0"
      },
      "execution_count": null,
      "outputs": [
        {
          "output_type": "stream",
          "name": "stdout",
          "text": [
            "(3, 4)\n"
          ]
        },
        {
          "output_type": "display_data",
          "data": {
            "text/plain": [
              "<Figure size 432x288 with 1 Axes>"
            ],
            "image/png": "[encoded data removed]"
          },
          "metadata": {
            "needs_background": "light"
          }
        }
      ]
    },
    {
      "cell_type": "markdown",
      "source": [
        "#Calculate Distance by Euclidean- Norm"
      ],
      "metadata": {
        "id": "mSU7eEqFPIhg"
      }
    },
    {
      "cell_type": "code",
      "source": [
        "def calculate_distance(point,center):\n",
        "  return np.sqrt(np.sum(np.square(point-center)))\n"
      ],
      "metadata": {
        "id": "FZ7n9VBwC8Zi"
      },
      "execution_count": null,
      "outputs": []
    },
    {
      "cell_type": "markdown",
      "source": [
        "# Update Centroids"
      ],
      "metadata": {
        "id": "vPVaCj80nUYh"
      }
    },
    {
      "cell_type": "code",
      "source": [
        "def Update_centroids(df,centroids_df):\n",
        "  centroids_dfs=list()\n",
        "  for i in range(len(centroids_df)):\n",
        "    # calculate mean rows of each dataframe -- dataframe here is a cluster points\n",
        "    centroids_dfs.append(df[df.Cluster ==i].iloc[:,:-2].mean(axis=0))\n",
        "   \n",
        "  return pd.DataFrame(centroids_dfs)\n"
      ],
      "metadata": {
        "id": "GApYek2GaYnB"
      },
      "execution_count": null,
      "outputs": []
    },
    {
      "cell_type": "code",
      "source": [
        "def calculate_cost(df,centroids_df):\n",
        "  wcss=0\n",
        "  for i in range(len(df)):\n",
        "    #wcss+= df[df.Cluster ==i].loc[:,'Error'].sum(axis=0)\n",
        "    wcss+= df.loc[:,'Error'].sum(axis=0)\n",
        "\n",
        "\n",
        "  return wcss  "
      ],
      "metadata": {
        "id": "_iZv5VN9gKso"
      },
      "execution_count": null,
      "outputs": []
    },
    {
      "cell_type": "markdown",
      "source": [
        "# Applay k-means"
      ],
      "metadata": {
        "id": "IONJNOnlYan1"
      }
    },
    {
      "cell_type": "code",
      "source": [
        "def Kmeans(df,centroids_df,max_iter=20):\n",
        " \n",
        "  for _ in range(max_iter):\n",
        "    costs=list()\n",
        "    wcss_list=list()\n",
        "    # Loop on each data point\n",
        "    for i in range(len(df)):\n",
        "      # Loop on each Centroid\n",
        "      distance_list=list()\n",
        "      for j in range(len(centroids_df)):\n",
        "\n",
        "        # calculate Distance between point and the centroid\n",
        "        dist = calculate_distance(df.iloc[i,:],centroids_df.iloc[j,:])\n",
        "        distance_list.append(dist)\n",
        "\n",
        "      # Append cost of ef each cluster of same point\n",
        "      df.loc[i,'Error']= min(distance_list)\n",
        "    \n",
        "      # Assign number of cluster that have min dist to cluster col\n",
        "      df.loc[i,'Cluster']= distance_list.index(min(distance_list))\n",
        "    \n",
        "     # calculate wcss\n",
        "    wcss=calculate_cost(df,centroids_df)\n",
        "    # calculate new centroids\n",
        "    new_centroids= Update_centroids(df,centroids_df)\n",
        "   \n",
        "    #wcss=sum((np.array(costs)).sum(axis=0)) \n",
        "    \n",
        "  return df,new_centroids,wcss\n"
      ],
      "metadata": {
        "id": "MapT6cMANWPP"
      },
      "execution_count": null,
      "outputs": []
    },
    {
      "cell_type": "markdown",
      "source": [
        "# Algorithm With K=3"
      ],
      "metadata": {
        "id": "m7uaqcCcdNjq"
      }
    },
    {
      "cell_type": "code",
      "source": [
        "k=3\n",
        "df = pd.DataFrame(data.data, columns=data.feature_names)\n",
        "centroids_df = init_centroids(df,k)\n",
        "df,new_centroids,wcss=Kmeans(df,centroids_df,100)\n",
        "\n",
        "color=['blue','green','cyan']\n",
        "for i in range(k):\n",
        "    data=df[df[\"Cluster\"]==i]\n",
        "    plt.scatter(data.iloc[:,0],data.iloc[:,1],c=color[i])\n",
        "plt.scatter(new_centroids.iloc[:,0],new_centroids.iloc[:,1],c='red',label='Cluster')\n",
        "plt.legend()\n",
        "plt.show()"
      ],
      "metadata": {
        "colab": {
          "base_uri": "https://localhost:8080/",
          "height": 286
        },
        "id": "z7HD48Fo6JeJ",
        "outputId": "17e05da4-104a-463f-ee65-88711ff5b8f3"
      },
      "execution_count": null,
      "outputs": [
        {
          "output_type": "stream",
          "name": "stdout",
          "text": [
            "(3, 4)\n"
          ]
        },
        {
          "output_type": "display_data",
          "data": {
            "text/plain": [
              "<Figure size 432x288 with 1 Axes>"
            ],
            "image/png": "[encoded data removed]"
          },
          "metadata": {
            "needs_background": "light"
          }
        }
      ]
    },
    {
      "cell_type": "markdown",
      "source": [
        "#Elbow Algorithm"
      ],
      "metadata": {
        "id": "4CU7k55k8xfT"
      }
    },
    {
      "cell_type": "code",
      "source": [
        "cost_list = []\n",
        "for k in range(2, 10):\n",
        "    df = pd.DataFrame(data.data, columns=data.feature_names)\n",
        "    centroids_df = init_centroids(df,k)\n",
        "    df,new_centroids,wcss=Kmeans(df,centroids_df,20) \n",
        "    cost_list.append(wcss)"
      ],
      "metadata": {
        "colab": {
          "base_uri": "https://localhost:8080/"
        },
        "id": "liWAoL5SUX4n",
        "outputId": "ea028cc1-1857-4d84-ae35-c4c7f7ee21d2"
      },
      "execution_count": null,
      "outputs": [
        {
          "output_type": "stream",
          "name": "stdout",
          "text": [
            "(2, 4)\n",
            "(3, 4)\n",
            "(4, 4)\n",
            "(5, 4)\n",
            "(6, 4)\n",
            "(7, 4)\n",
            "(8, 4)\n",
            "(9, 4)\n"
          ]
        }
      ]
    },
    {
      "cell_type": "code",
      "source": [
        "sns.lineplot(x=range(2,10), y=cost_list, marker='o')\n",
        "plt.xlabel('k')\n",
        "plt.ylabel('WCSS')\n",
        "plt.show()"
      ],
      "metadata": {
        "colab": {
          "base_uri": "https://localhost:8080/",
          "height": 279
        },
        "id": "gRLOeyMPVvp-",
        "outputId": "bf3f99c1-3bef-4d1b-f36f-9abdbd17aa84"
      },
      "execution_count": null,
      "outputs": [
        {
          "output_type": "display_data",
          "data": {
            "text/plain": [
              "<Figure size 432x288 with 1 Axes>"
            ],
            "image/png": "[encoded data removed]"
          },
          "metadata": {
            "needs_background": "light"
          }
        }
      ]
    }
  ]
}